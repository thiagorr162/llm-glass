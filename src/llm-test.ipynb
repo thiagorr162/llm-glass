{
 "cells": [
  {
   "cell_type": "markdown",
   "id": "21fe63d6-5cc0-4fad-95b7-a027a8860c04",
   "metadata": {},
   "source": [
    "# OCR"
   ]
  },
  {
   "cell_type": "code",
   "execution_count": 1,
   "id": "c8305fe7-40d5-4a77-83ab-9d6f7cf24353",
   "metadata": {},
   "outputs": [],
   "source": [
    "import pytesseract\n",
    "from pdf2image import convert_from_path"
   ]
  },
  {
   "cell_type": "code",
   "execution_count": 2,
   "id": "a01c3752-d2d9-4c67-9bdf-566ae91b5132",
   "metadata": {},
   "outputs": [],
   "source": [
    "# pdf_path = '../data/patente.pdf'\n",
    "# pages = convert_from_path(pdf_path)\n",
    "\n",
    "# # Aplique OCR em cada página\n",
    "# full_text = \"\"\n",
    "\n",
    "# for page_number, page in enumerate(pages):\n",
    "#     # Converta a página da imagem para texto\n",
    "#     text = pytesseract.image_to_string(page)\n",
    "#     full_text += text\n",
    "\n",
    "# with open('../data/patente.txt', 'w') as file:\n",
    "#     file.write(full_text)"
   ]
  },
  {
   "cell_type": "markdown",
   "id": "6c230ff1-7123-42b0-a88c-cc97809fc8d7",
   "metadata": {},
   "source": [
    "# Clean Data"
   ]
  },
  {
   "cell_type": "code",
   "execution_count": 3,
   "id": "e40e6064-577f-46c5-98da-fbecdf0f7a34",
   "metadata": {},
   "outputs": [],
   "source": [
    "import re\n",
    "\n",
    "def split_document(document):\n",
    "    # Usar expressão regular para dividir com base em duas ou mais quebras de linha consecutivas (\\n\\n ou mais)\n",
    "    return re.split(r'\\n\\s*\\n', document)"
   ]
  },
  {
   "cell_type": "markdown",
   "id": "1646ff67-3653-4597-ba39-6b56a9ce0492",
   "metadata": {},
   "source": [
    "# LLM"
   ]
  },
  {
   "cell_type": "code",
   "execution_count": 4,
   "id": "440bb35c-09f9-4d93-9fee-5bc633e0bf63",
   "metadata": {},
   "outputs": [],
   "source": [
    "from langchain_ollama import ChatOllama\n",
    "from langchain_core.prompts import ChatPromptTemplate"
   ]
  },
  {
   "cell_type": "code",
   "execution_count": 5,
   "id": "2a2c727b-39e3-4da0-92c4-2b7a6ec115d1",
   "metadata": {},
   "outputs": [],
   "source": [
    "file_path = \"../data/patente.txt\"\n",
    "\n",
    "with open(file_path, 'r') as file:\n",
    "    data = file.read()\n"
   ]
  },
  {
   "cell_type": "code",
   "execution_count": 6,
   "id": "42369c51-6901-4c68-998b-6312dbf49ed2",
   "metadata": {
    "scrolled": true
   },
   "outputs": [],
   "source": [
    "prompt = ChatPromptTemplate.from_messages([\n",
    "  (\n",
    "    \"system\",\n",
    "    # \"You are a knowledgeable assistant. Given the following document related to glass, your task is to analyze the document and extract the chemical composition the given glass, detailing the percentage of each element, and listing the key properties associated with the glass. If the document does not contain relevant information regarding the chemical composition or properties, return 'not available'. Here are the contents of the document:\\n\\n----\\n\\n{document}.\"\n",
    "    \"You are a knowledgeable assistant. Given the following document related to glass, your task is to analyze the document and extract the chemical composition the given glass, detailing the percentage of each element, and listing the key properties associated with the glass. If there is no relevant information, do not return a generic aswer, just say 'there is no information'. Here are the contents of the document:\\n\\n----\\n\\n{document}.\"\n",
    "  ),\n",
    "  (\"human\", \"{input}\")\n",
    "])\n",
    "\n",
    "llm = ChatOllama(\n",
    "  model=\"llama3.1\",\n",
    "  temperature=0.8,\n",
    ")\n",
    "\n",
    "chain = prompt | llm\n",
    "\n"
   ]
  },
  {
   "cell_type": "code",
   "execution_count": 7,
   "id": "edf1eb7a-6e48-4946-8f63-ff64a9ff9278",
   "metadata": {},
   "outputs": [],
   "source": [
    "chunks = split_document(data)"
   ]
  },
  {
   "cell_type": "code",
   "execution_count": 18,
   "id": "15030f39-081d-4847-9a1b-12d63ecccdf7",
   "metadata": {},
   "outputs": [
    {
     "name": "stdout",
     "output_type": "stream",
     "text": [
      "['The present invention discloses a glass with high refractive\\nindex for fiber optic imaging elements with medium-expan-\\nsion and fabrication method therefor, the glass comprising\\nthe following components in percentage by weight: SiO, 5-\\n9%, AlsO3 0-1%, BsO3 23-28%, CaO 0-3%, BaO 6-12%,\\nLa,O3 30-34%, Nb»Os 4-8%, TasOs 0-1%, Y203 0-1%,\\nZnO 4-9%, TiO, 4-8%, ZrOz 4-6%, SnO, 0-1%. The present\\ninvention further provides a fabrication method for the glass\\nwith a high refractive index, comprising: putting raw mate-\\nrials quartz sand, aluminum hydroxide, boric acid or boric\\nanhydride, calcium carbonate, barium carbonate or barium\\nnitrate, lanthanum oxide, niobium oxide, tantalum oxide,\\nyttrium oxide, zinc oxide, titanium dioxide, zirconium\\noxide and stannic oxide, etc. into a platinum crucible\\naccording to the requirement of dosing, melting at a high\\ntemperature, cooling and fining, leaking and casting to\\nform a glass rod, and then annealing, cooling and chilling\\nthe molded glass rod.\\n\\x0cUS 2023/0242436 Al', 'Aug. 3, 2023', 'Patent Application Publication', '[ amary', '5, OAT C ISU |\\n002 _ 808 60S OOP OGEe 002 DOL', 'sagen te OA. OX SIG LOFALO\\nOF, HEX LY RIAA LO yo votsuedxe-ranipant ya. sseyry\\n#¢ Uosundse-camiper Yim ssp', 'en,', \"Os: OF X0E8'99=4 LD\\n#£ BOTSTRGKS-UITUPOU YALA SSEILy\", 'Of AA P6OTLAALO\\nHp worstedxo-uniperd Ws S88]', 'Df OE XK PET OLAALS\\n#1 UoIsuedxa-IMipeMl Wii SeRTD', 'TL DUEL VERE', 'ABEL Rog', 'Ds BEX FEC TG=A LD\\nUOURdXS-UBIY UM SSEEED', 'CRIS yee\\n7268 ead', 'DORE BSE', 'Oh. OUP\\n\\x0cUS 2023/0242436 Al', 'GLASS WITH HIGH REFRACTIVE INDEX\\nFOR FIBER OPTIC IMAGING ELEMENT\\nWITH MEDIUM-EXPANSION AND\\nFABRICATION METHOD THEREFOR', 'TECHNICAL FIELD', '[0001] The present invention relates to the field of tech-\\nnology of raw materials of fiber optic imaging elements\\nand glass materials, in particular to a glass with high refrac-\\ntive index for fiber optic imaging elements with medium-\\nexpansion and fabrication method therefor.', 'BACKGROUD TECHNOLOGY', '[0002] Fiber optic imaging elements include fiber optic\\nfaceplates, fiber optic image inverters, fiber optic tapers,\\nfiber optic bundle for image transmission, etc. Fiber optic\\nimaging elements are photoelectric imaging devices with\\nexcellent performance, which is fabricated by unique com-\\npositions of cladding glass, core glass and absorbing glass,\\nand is fabricated by a drawing process of vacuum control\\nand rod-tube combination, so that the product has good air\\ntightness, small distortion, less spots, simple structure, small\\nvolume, light weight, large numerical aperture, high light\\ntransmission efficiency, small inter-stage coupling loss,\\nhigh coupling efficiency, high resolution, clear and true\\nimage transmission, zero thickness image transfer and\\nother characteristics, which can effectively improve the\\nedge image quality. Fiber optic imaging elements are high-\\nresolution imaging elements which formed by arranging\\ntens of millions of optical fibers in parallel and heat press\\nfusion process, and are key materials for image intensifiers\\nand high-definition displays, which are widely used in var-\\nious cathode ray displays, camera tube, CCD coupling, low-\\nlevel-light night vision, medical equipment display, high-\\ndefinition TV imaging and other instruments and equip-\\nments that need to transmit images in military, criminal\\ninvestigation, aerospace, medicine and other fields, and\\nwhich is a high-tech product in the industry of photoelectron\\nin 21 century.', '[0003] The most typical application of fiber optic imaging\\nelements is as the optical input and output windows of low-\\nlevel-light image intensifiers, which make an important role\\nin improving the quality of imaging devices, and which in\\napplication need to be sealed with Kovar alloy, so effective\\nsealing and matching with Kovar alloy having a similar\\ncoefficient of linear thermal expansion (50*10-7/°C) is\\nrequired to improve the stability and prolong the service\\nlife of the low-level-light image tube. Fiber optic imaging\\nelements currently used in China use a high expansion sys-\\ntem with a coefficient of thermal expansion in the range of\\n(87+45)*10-7/°C, which is far from the sealing matching\\ndegree of Kovar alloy. In order to improve the thermal sta-\\nbility of the image intensifier device, it is necessary to adopt\\nthe fiber optic imaging elements with medium-expansion\\nsystem, but there is no suitable material with medium-\\nexpansion system at present.', 'SUMMARY', '[0004] In order to solve the technical problems in the\\nprior, the present invention provides a glass with high\\ntefractive index for fiber optic imaging elements with med-\\nium-expansion and fabrication method therefor.', 'Aug. 3, 2023', '[0005] To achieve the above purposes, the technical solu-\\ntion of the present invention is as follows:', '[0006] A composition of glass with high refractive index\\nfor fiber optic imaging elements with medium-expansion,\\ncomprises the following components in percentage by\\nweight:', 'SiO, 5-9%\\nALO; 0-1%\\nB03 23-28%\\nCaO 0-3%\\nBaO 6-12%\\nLa,O, 30-34%\\nNb,Os 4.8%\\nTa,Os 0-1%\\nY203 0-1%\\nZnO 4.9%\\nTiO, 4.8%\\nZ103 4.6%\\nnO, 0-1%\\n[0007] Preferably, the composition comprises the follow-', 'ing components in percentage by weight:', 'SiO, 9%\\nALO; 1%\\nB03 23%\\nBaO 12%\\nLa,O3 34%\\nNb305 4%\\nTa,Os 0.5%\\nZnO 4%\\nTiO, 8%\\nZxOz 4%\\nSnO, 0.5%\\n[0008] Further, the glass with high refractive index has a', 'tefractive index of 1.80-1.82, an coefficient of average lin-\\near thermal expansion of (68 +5) x 10-7/°C in the range of\\n30-300° C., a strain point temperature of more than 600° C.,\\na devitrification temperature of more than 820° C., and a\\nhigh spectral transmission. The glass does not contain any\\nheavy metal oxides such as AsO3, Sb203, PbO, CdO, etc.,\\nand has the advantages of good chemical stability and so on.\\n[0009] Further, the present invention provides a fabrica-\\ntion method for the glass with high refractive index for\\nfiber optic imaging elements with medium-expansion\\nusing the composition related above, comprising the follow-\\ning steps:', '[0010] (1) putting quartz sand, aluminum hydroxide,\\nboric acid or boric anhydride, calcium carbonate, bar-\\nium carbonate or barium nitrate, lanthanum oxide, nio-\\nbium oxide, tantalum oxide, yttrium oxide, zine oxide,\\ntitanium dioxide, zirconium oxide and stannic oxide\\ninto a platinum crucible according to the requirement\\nof dosing;', '[0011] (2) melting at a first preset temperature, stirring\\nin the melting process, then cooling to a second preset\\ntemperature and fining to obtain a fining glass melt;']\n"
     ]
    }
   ],
   "source": [
    "chunk = chunks[17:50]\n",
    "print(chunk)"
   ]
  },
  {
   "cell_type": "code",
   "execution_count": 19,
   "id": "6471af4c-1d59-4bf1-b720-c60a56039ea8",
   "metadata": {},
   "outputs": [],
   "source": [
    "# Processar cada parte separadamente e coletar as respostas\n",
    "# for i, chunk in enumerate(chunks):\n",
    "ai_msg = chain.invoke({\n",
    "    \"document\": chunk,  # Passa o pedaço do documento\n",
    "    \"input\": \"Respond to me in JSON format. List the chemical compositions of the glass mentioned in the document along with the percentage of each element, and the key properties associated with each glass type. \"\n",
    "})\n"
   ]
  },
  {
   "cell_type": "code",
   "execution_count": 20,
   "id": "c5e7e5b6-bdab-4bae-96f0-f6ab499b2f85",
   "metadata": {},
   "outputs": [
    {
     "name": "stdout",
     "output_type": "stream",
     "text": [
      "```\n",
      "{\n",
      "  \"glass_compositions\": [\n",
      "    {\n",
      "      \"name\": \"High Refractive Index Glass\",\n",
      "      \"chemical_composition\": {\n",
      "        \"SiO2\": \"5-9%\",\n",
      "        \"Al2O3\": \"0-1%\",\n",
      "        \"B2O3\": \"23-28%\",\n",
      "        \"CaO\": \"0-3%\",\n",
      "        \"BaO\": \"6-12%\",\n",
      "        \"La2O3\": \"30-34%\",\n",
      "        \"Nb2O5\": \"4.8%\",\n",
      "        \"Ta2O5\": \"0-1%\",\n",
      "        \"Y2O3\": \"0-1%\",\n",
      "        \"ZnO\": \"4.9%\",\n",
      "        \"TiO2\": \"4.8%\",\n",
      "        \"ZrO2\": \"4.6%\",\n",
      "        \"SnO2\": \"0-1%\"\n",
      "      },\n",
      "      \"properties\": [\n",
      "        {\n",
      "          \"property_name\": \"Refractive Index\",\n",
      "          \"property_value\": \"1.80-1.82\"\n",
      "        },\n",
      "        {\n",
      "          \"property_name\": \"Coefficient of Average Linear Thermal Expansion\",\n",
      "          \"property_value\": \"(68 + 5) x 10^-7/°C (30-300°C)\"\n",
      "        },\n",
      "        {\n",
      "          \"property_name\": \"Strain Point Temperature\",\n",
      "          \"property_value\": \"> 600°C\"\n",
      "        },\n",
      "        {\n",
      "          \"property_name\": \"Devitrification Temperature\",\n",
      "          \"property_value\": \"> 820°C\"\n",
      "        },\n",
      "        {\n",
      "          \"property_name\": \"Spectral Transmission\",\n",
      "          \"property_value\": \"High\"\n",
      "        }\n",
      "      ]\n",
      "    },\n",
      "    {\n",
      "      \"name\": \"Preferred High Refractive Index Glass\",\n",
      "      \"chemical_composition\": {\n",
      "        \"SiO2\": \"9%\",\n",
      "        \"Al2O3\": \"1%\",\n",
      "        \"B2O3\": \"23%\",\n",
      "        \"BaO\": \"12%\",\n",
      "        \"La2O3\": \"34%\",\n",
      "        \"Nb2O5\": \"4%\",\n",
      "        \"Ta2O5\": \"0.5%\",\n",
      "        \"ZnO\": \"4%\",\n",
      "        \"TiO2\": \"8%\",\n",
      "        \"ZrO2\": \"4%\",\n",
      "        \"SnO2\": \"0.5%\"\n",
      "      },\n",
      "      \"properties\": [\n",
      "        {\n",
      "          \"property_name\": \"Refractive Index\",\n",
      "          \"property_value\": \"1.80-1.82\"\n",
      "        },\n",
      "        {\n",
      "          \"property_name\": \"Coefficient of Average Linear Thermal Expansion\",\n",
      "          \"property_value\": \"(68 + 5) x 10^-7/°C (30-300°C)\"\n",
      "        },\n",
      "        {\n",
      "          \"property_name\": \"Strain Point Temperature\",\n",
      "          \"property_value\": \"> 600°C\"\n",
      "        },\n",
      "        {\n",
      "          \"property_name\": \"Devitrification Temperature\",\n",
      "          \"property_value\": \"> 820°C\"\n",
      "        },\n",
      "        {\n",
      "          \"property_name\": \"Spectral Transmission\",\n",
      "          \"property_value\": \"High\"\n",
      "        }\n",
      "      ]\n",
      "    }\n",
      "  ]\n",
      "}\n",
      "```\n",
      "\n",
      "Note: The chemical composition and properties of the glass types are as mentioned in the provided document.\n"
     ]
    }
   ],
   "source": [
    "print(ai_msg.content)"
   ]
  }
 ],
 "metadata": {
  "kernelspec": {
   "display_name": "Python 3 (ipykernel)",
   "language": "python",
   "name": "python3"
  },
  "language_info": {
   "codemirror_mode": {
    "name": "ipython",
    "version": 3
   },
   "file_extension": ".py",
   "mimetype": "text/x-python",
   "name": "python",
   "nbconvert_exporter": "python",
   "pygments_lexer": "ipython3",
   "version": "3.10.12"
  }
 },
 "nbformat": 4,
 "nbformat_minor": 5
}
