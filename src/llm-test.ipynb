{
 "cells": [
  {
   "cell_type": "markdown",
   "id": "21fe63d6-5cc0-4fad-95b7-a027a8860c04",
   "metadata": {},
   "source": [
    "# OCR"
   ]
  },
  {
   "cell_type": "code",
   "execution_count": 1,
   "id": "c8305fe7-40d5-4a77-83ab-9d6f7cf24353",
   "metadata": {},
   "outputs": [],
   "source": [
    "import pytesseract\n",
    "from pdf2image import convert_from_path"
   ]
  },
  {
   "cell_type": "code",
   "execution_count": 2,
   "id": "a01c3752-d2d9-4c67-9bdf-566ae91b5132",
   "metadata": {},
   "outputs": [],
   "source": [
    "# pdf_path = '../data/patente.pdf'\n",
    "# pages = convert_from_path(pdf_path)\n",
    "\n",
    "# # Aplique OCR em cada página\n",
    "# full_text = \"\"\n",
    "\n",
    "# for page_number, page in enumerate(pages):\n",
    "#     # Converta a página da imagem para texto\n",
    "#     text = pytesseract.image_to_string(page)\n",
    "#     full_text += text\n",
    "\n",
    "# with open('../data/patente.txt', 'w') as file:\n",
    "#     file.write(full_text)"
   ]
  },
  {
   "cell_type": "markdown",
   "id": "6c230ff1-7123-42b0-a88c-cc97809fc8d7",
   "metadata": {},
   "source": [
    "# Clean Data"
   ]
  },
  {
   "cell_type": "code",
   "execution_count": 3,
   "id": "e40e6064-577f-46c5-98da-fbecdf0f7a34",
   "metadata": {},
   "outputs": [],
   "source": [
    "import re\n",
    "\n",
    "def split_document(document):\n",
    "    # Usar expressão regular para dividir com base em duas ou mais quebras de linha consecutivas (\\n\\n ou mais)\n",
    "    return re.split(r'\\n\\s*\\n', document)"
   ]
  },
  {
   "cell_type": "markdown",
   "id": "1646ff67-3653-4597-ba39-6b56a9ce0492",
   "metadata": {},
   "source": [
    "# LLM"
   ]
  },
  {
   "cell_type": "code",
   "execution_count": 4,
   "id": "440bb35c-09f9-4d93-9fee-5bc633e0bf63",
   "metadata": {},
   "outputs": [],
   "source": [
    "from langchain_ollama import ChatOllama\n",
    "from langchain_core.prompts import ChatPromptTemplate"
   ]
  },
  {
   "cell_type": "code",
   "execution_count": 5,
   "id": "2a2c727b-39e3-4da0-92c4-2b7a6ec115d1",
   "metadata": {},
   "outputs": [],
   "source": [
    "file_path = \"../data/patente.txt\"\n",
    "\n",
    "with open(file_path, 'r') as file:\n",
    "    data = file.read()\n"
   ]
  },
  {
   "cell_type": "code",
   "execution_count": 14,
   "id": "42369c51-6901-4c68-998b-6312dbf49ed2",
   "metadata": {
    "scrolled": true
   },
   "outputs": [],
   "source": [
    "prompt = ChatPromptTemplate.from_messages([\n",
    "  (\n",
    "    \"system\",\n",
    "    \"You are a knowledgeable assistant. Given the following patent document related to glass compositions, your task is to strictly analyze the document and extract the chemical composition of each type of glass, detailing the percentage of each element, and listing the key properties associated with each glass type. If the document does not contain relevant information regarding the chemical composition or properties, respond only with 'not available'. Do not guess or generate information from outside the document. Here are the contents of the document:\\n\\n----\\n\\n{document}.\"\n",
    "  ),\n",
    "  (\"human\", \"{input}\")\n",
    "])\n",
    "\n",
    "llm = ChatOllama(\n",
    "  model=\"llama3.1\",\n",
    "  temperature=0.1,\n",
    ")\n",
    "\n",
    "chain = prompt | llm\n",
    "\n"
   ]
  },
  {
   "cell_type": "code",
   "execution_count": 15,
   "id": "edf1eb7a-6e48-4946-8f63-ff64a9ff9278",
   "metadata": {},
   "outputs": [],
   "source": [
    "# Limpar o documento para remover espaços e linhas extras\n",
    "\n",
    "# Divida o documento limpo em partes menores\n",
    "chunks = split_document(data)"
   ]
  },
  {
   "cell_type": "code",
   "execution_count": 20,
   "id": "15030f39-081d-4847-9a1b-12d63ecccdf7",
   "metadata": {},
   "outputs": [
    {
     "name": "stdout",
     "output_type": "stream",
     "text": [
      "The present invention discloses a glass with high refractive\n",
      "index for fiber optic imaging elements with medium-expan-\n",
      "sion and fabrication method therefor, the glass comprising\n",
      "the following components in percentage by weight: SiO, 5-\n",
      "9%, AlsO3 0-1%, BsO3 23-28%, CaO 0-3%, BaO 6-12%,\n",
      "La,O3 30-34%, Nb»Os 4-8%, TasOs 0-1%, Y203 0-1%,\n",
      "ZnO 4-9%, TiO, 4-8%, ZrOz 4-6%, SnO, 0-1%. The present\n",
      "invention further provides a fabrication method for the glass\n",
      "with a high refractive index, comprising: putting raw mate-\n",
      "rials quartz sand, aluminum hydroxide, boric acid or boric\n",
      "anhydride, calcium carbonate, barium carbonate or barium\n",
      "nitrate, lanthanum oxide, niobium oxide, tantalum oxide,\n",
      "yttrium oxide, zinc oxide, titanium dioxide, zirconium\n",
      "oxide and stannic oxide, etc. into a platinum crucible\n",
      "according to the requirement of dosing, melting at a high\n",
      "temperature, cooling and fining, leaking and casting to\n",
      "form a glass rod, and then annealing, cooling and chilling\n",
      "the molded glass rod.\n",
      "\f",
      "US 2023/0242436 Al\n"
     ]
    }
   ],
   "source": [
    "chunk = chunks[17]\n",
    "print(chunk)"
   ]
  },
  {
   "cell_type": "code",
   "execution_count": null,
   "id": "6471af4c-1d59-4bf1-b720-c60a56039ea8",
   "metadata": {},
   "outputs": [],
   "source": [
    "# Processar cada parte separadamente e coletar as respostas\n",
    "# for i, chunk in enumerate(chunks):\n",
    "ai_msg = chain.invoke({\n",
    "    \"document\": chunk,  # Passa o pedaço do documento\n",
    "    \"input\": \"Respond to me in JSON format. List the chemical compositions of the glass types mentioned in the document along with the percentage of each element, and the key properties associated with each glass type. If any information is missing, respond with 'not available'.\"\n",
    "})\n"
   ]
  },
  {
   "cell_type": "code",
   "execution_count": null,
   "id": "c5e7e5b6-bdab-4bae-96f0-f6ab499b2f85",
   "metadata": {},
   "outputs": [],
   "source": [
    "print(ai_msg.content)"
   ]
  }
 ],
 "metadata": {
  "kernelspec": {
   "display_name": "Python 3 (ipykernel)",
   "language": "python",
   "name": "python3"
  },
  "language_info": {
   "codemirror_mode": {
    "name": "ipython",
    "version": 3
   },
   "file_extension": ".py",
   "mimetype": "text/x-python",
   "name": "python",
   "nbconvert_exporter": "python",
   "pygments_lexer": "ipython3",
   "version": "3.10.12"
  }
 },
 "nbformat": 4,
 "nbformat_minor": 5
}
